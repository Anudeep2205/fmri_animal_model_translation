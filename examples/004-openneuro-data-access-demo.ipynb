{
 "cells": [
  {
   "cell_type": "code",
   "execution_count": 3,
   "id": "20772daa-dede-4298-9fe6-d6f91d1ea343",
   "metadata": {
    "tags": []
   },
   "outputs": [],
   "source": [
    "from cloudpathlib import S3Path, S3Client\n",
    "from pathlib import Path\n",
    "\n",
    "# Set up our cache path:\n",
    "cache_path = Path('/tmp/cache')\n",
    "if not cache_path.exists():\n",
    "    cache_path.mkdir()\n",
    "\n",
    "base_path = S3Path(\n",
    "    's3://openneuro.org/ds005496/',\n",
    "    client=S3Client(\n",
    "        no_sign_request=True,\n",
    "        local_cache_dir=cache_path))"
   ]
  },
  {
   "cell_type": "code",
   "execution_count": 4,
   "id": "6fa90c39-b42e-4b77-a647-956c2478471b",
   "metadata": {
    "tags": []
   },
   "outputs": [
    {
     "data": {
      "text/plain": [
       "[S3Path('s3://openneuro.org/ds005496/.datalad'),\n",
       " S3Path('s3://openneuro.org/ds005496/sub-SUB1'),\n",
       " S3Path('s3://openneuro.org/ds005496/sub-SUB2'),\n",
       " S3Path('s3://openneuro.org/ds005496/sub-SUB3'),\n",
       " S3Path('s3://openneuro.org/ds005496/sub-SUB7'),\n",
       " S3Path('s3://openneuro.org/ds005496/sub-SUBR1'),\n",
       " S3Path('s3://openneuro.org/ds005496/sub-SUBR2'),\n",
       " S3Path('s3://openneuro.org/ds005496/.gitattributes'),\n",
       " S3Path('s3://openneuro.org/ds005496/CHANGES'),\n",
       " S3Path('s3://openneuro.org/ds005496/README'),\n",
       " S3Path('s3://openneuro.org/ds005496/dataset_description.json'),\n",
       " S3Path('s3://openneuro.org/ds005496/participants.json'),\n",
       " S3Path('s3://openneuro.org/ds005496/participants.tsv')]"
      ]
     },
     "execution_count": 4,
     "metadata": {},
     "output_type": "execute_result"
    }
   ],
   "source": [
    "# Let's see if it looks like a BIDS dataset!\n",
    "\n",
    "from utilities import ls\n",
    "\n",
    "ls(base_path)"
   ]
  },
  {
   "cell_type": "code",
   "execution_count": 6,
   "id": "aa842d2d-36e1-40b9-90aa-d0b06408281e",
   "metadata": {},
   "outputs": [
    {
     "data": {
      "text/plain": [
       "[S3Path('s3://openneuro.org/ds005496/sub-SUB2/ses-08152022'),\n",
       " S3Path('s3://openneuro.org/ds005496/sub-SUB2/ses-08182022'),\n",
       " S3Path('s3://openneuro.org/ds005496/sub-SUB2/ses-08222022'),\n",
       " S3Path('s3://openneuro.org/ds005496/sub-SUB2/ses-08242022'),\n",
       " S3Path('s3://openneuro.org/ds005496/sub-SUB2/ses-08252022')]"
      ]
     },
     "execution_count": 6,
     "metadata": {},
     "output_type": "execute_result"
    }
   ],
   "source": [
    "ls(base_path / 'sub-SUB2')"
   ]
  },
  {
   "cell_type": "code",
   "execution_count": 7,
   "id": "4b023707-fca7-4b78-909e-772fca2d7cf8",
   "metadata": {},
   "outputs": [
    {
     "data": {
      "text/plain": [
       "[S3Path('s3://openneuro.org/ds005496/sub-SUB2/ses-08152022/anat'),\n",
       " S3Path('s3://openneuro.org/ds005496/sub-SUB2/ses-08152022/func')]"
      ]
     },
     "execution_count": 7,
     "metadata": {},
     "output_type": "execute_result"
    }
   ],
   "source": [
    "ls(base_path / 'sub-SUB2' / 'ses-08152022')"
   ]
  },
  {
   "cell_type": "code",
   "execution_count": 9,
   "id": "d179178f-92d4-48a1-ba88-b15ebb6f8a03",
   "metadata": {},
   "outputs": [
    {
     "data": {
      "text/plain": [
       "[S3Path('s3://openneuro.org/ds005496/sub-SUB2/ses-08152022/func/sub-SUB2_ses-08152022_task-whisker_run-01_bold.json'),\n",
       " S3Path('s3://openneuro.org/ds005496/sub-SUB2/ses-08152022/func/sub-SUB2_ses-08152022_task-whisker_run-01_bold.nii.gz'),\n",
       " S3Path('s3://openneuro.org/ds005496/sub-SUB2/ses-08152022/func/sub-SUB2_ses-08152022_task-whisker_run-02_bold.json'),\n",
       " S3Path('s3://openneuro.org/ds005496/sub-SUB2/ses-08152022/func/sub-SUB2_ses-08152022_task-whisker_run-02_bold.nii.gz'),\n",
       " S3Path('s3://openneuro.org/ds005496/sub-SUB2/ses-08152022/func/sub-SUB2_ses-08152022_task-whisker_run-03_bold.json'),\n",
       " S3Path('s3://openneuro.org/ds005496/sub-SUB2/ses-08152022/func/sub-SUB2_ses-08152022_task-whisker_run-03_bold.nii.gz')]"
      ]
     },
     "execution_count": 9,
     "metadata": {},
     "output_type": "execute_result"
    }
   ],
   "source": [
    "ls(base_path / 'sub-SUB2' / 'ses-08152022' / 'func')"
   ]
  },
  {
   "cell_type": "code",
   "execution_count": 11,
   "id": "ba2538e1-41b0-404e-ade3-b208150cb8e9",
   "metadata": {},
   "outputs": [],
   "source": [
    "import nibabel as nib\n",
    "img = nib.load(base_path / 'sub-SUB2' / 'ses-08152022' / 'func' / 'sub-SUB2_ses-08152022_task-whisker_run-01_bold.nii.gz')"
   ]
  },
  {
   "cell_type": "code",
   "execution_count": 16,
   "id": "11be2c15-1de5-4ed5-b32e-f9554b16a7a1",
   "metadata": {},
   "outputs": [],
   "source": [
    "data = img.get_fdata()"
   ]
  },
  {
   "cell_type": "code",
   "execution_count": 23,
   "id": "2f4ff0f4-71ed-4762-903d-bb26f397661d",
   "metadata": {},
   "outputs": [
    {
     "data": {
      "text/plain": [
       "array([[-9.99938244e-02,  1.11147655e-03,  2.08973284e-06,\n",
       "         7.14625549e+00],\n",
       "       [-1.04486642e-06,  5.80690187e-09, -2.00000003e-01,\n",
       "         4.25000000e+00],\n",
       "       [-1.11147655e-03, -9.99938244e-02,  1.16138037e-08,\n",
       "         4.87965536e+00],\n",
       "       [ 0.00000000e+00,  0.00000000e+00,  0.00000000e+00,\n",
       "         1.00000000e+00]])"
      ]
     },
     "execution_count": 23,
     "metadata": {},
     "output_type": "execute_result"
    }
   ],
   "source": [
    "img.affine"
   ]
  },
  {
   "cell_type": "code",
   "execution_count": null,
   "id": "87db6a62-c58b-4250-bbde-38f5af7b1248",
   "metadata": {},
   "outputs": [],
   "source": []
  }
 ],
 "metadata": {
  "kernelspec": {
   "display_name": "Python 3 (ipykernel)",
   "language": "python",
   "name": "python3"
  },
  "language_info": {
   "codemirror_mode": {
    "name": "ipython",
    "version": 3
   },
   "file_extension": ".py",
   "mimetype": "text/x-python",
   "name": "python",
   "nbconvert_exporter": "python",
   "pygments_lexer": "ipython3",
   "version": "3.11.11"
  }
 },
 "nbformat": 4,
 "nbformat_minor": 5
}
